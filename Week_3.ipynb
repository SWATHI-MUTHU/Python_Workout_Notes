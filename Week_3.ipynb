{
  "nbformat": 4,
  "nbformat_minor": 0,
  "metadata": {
    "colab": {
      "provenance": [],
      "authorship_tag": "ABX9TyPBUAQzsZIHIfugJ4+S6S5A",
      "include_colab_link": true
    },
    "kernelspec": {
      "name": "python3",
      "display_name": "Python 3"
    },
    "language_info": {
      "name": "python"
    }
  },
  "cells": [
    {
      "cell_type": "markdown",
      "metadata": {
        "id": "view-in-github",
        "colab_type": "text"
      },
      "source": [
        "<a href=\"https://colab.research.google.com/github/SWATHI-MUTHU/Python_Workout_Notes/blob/main/Week_3.ipynb\" target=\"_parent\"><img src=\"https://colab.research.google.com/assets/colab-badge.svg\" alt=\"Open In Colab\"/></a>"
      ]
    },
    {
      "cell_type": "code",
      "execution_count": null,
      "metadata": {
        "id": "FQHQS2Do5gS-",
        "colab": {
          "base_uri": "https://localhost:8080/"
        },
        "outputId": "7fd0678a-93f4-4a29-f276-7c2bb9b0ad31"
      },
      "outputs": [
        {
          "output_type": "execute_result",
          "data": {
            "text/plain": [
              "[1, 2, 6, 'true', 'Swathi', [6, 9, 3]]"
            ]
          },
          "metadata": {},
          "execution_count": 4
        }
      ],
      "source": [
        "x=[1,2,6,\"true\",\"Swathi\",[6,9,3]]\n",
        "def test(x):\n",
        " n=[]\n",
        " for i in x:\n",
        "    if type(i)==list:\n",
        "        for j in i:\n",
        "          if type(j)==int:\n",
        "            n.append(j)\n",
        "\n",
        "    else :\n",
        "      if type(i)== int:\n",
        "        n.append(i)\n",
        " return n\n",
        "\n",
        "n=[x]\n",
        "x"
      ]
    },
    {
      "cell_type": "code",
      "source": [
        "\n",
        "def dummy(a,b):\n",
        "  pass\n",
        "  dummy(1,2,3)\n",
        "\n"
      ],
      "metadata": {
        "id": "vfVp-0XmAKHx"
      },
      "execution_count": null,
      "outputs": []
    },
    {
      "cell_type": "code",
      "source": [
        "\n",
        "def add(a,b):\n",
        "  pass\n",
        "  add(1,2,4 )\n"
      ],
      "metadata": {
        "id": "tCZFOX8SAtuC"
      },
      "execution_count": null,
      "outputs": []
    },
    {
      "cell_type": "code",
      "source": [
        "l=[1,2,3,4,5,[5,7,5],[2,5,7]]\n",
        "def swa(*args):\n",
        "  n=[]\n",
        "  for i in args:\n",
        "    if type(i)==int:\n",
        "      n.append(i)\n",
        "      return n\n",
        "      n=[l]\n",
        "      l"
      ],
      "metadata": {
        "id": "cPkc1wSqCgF-"
      },
      "execution_count": null,
      "outputs": []
    },
    {
      "cell_type": "code",
      "source": [
        "def multiple (a,b):\n",
        "    return a*b"
      ],
      "metadata": {
        "id": "7G5xeoUQIO4D"
      },
      "execution_count": null,
      "outputs": []
    },
    {
      "cell_type": "code",
      "source": [
        "add= lambda a,b: a+b\n",
        "add(2,3)\n"
      ],
      "metadata": {
        "colab": {
          "base_uri": "https://localhost:8080/"
        },
        "id": "d5g3e-tlIgiS",
        "outputId": "2a5affff-f71f-4568-a8e3-01f2caa3823c"
      },
      "execution_count": null,
      "outputs": [
        {
          "output_type": "execute_result",
          "data": {
            "text/plain": [
              "5"
            ]
          },
          "metadata": {},
          "execution_count": 95
        }
      ]
    },
    {
      "cell_type": "code",
      "source": [
        "multiple = lambda a,b: a*b\n",
        "multiple (2,4)\n"
      ],
      "metadata": {
        "colab": {
          "base_uri": "https://localhost:8080/"
        },
        "id": "q7mKDZgaJZRH",
        "outputId": "5c5e1e58-703d-4b67-f68b-b9e792d9cb9e"
      },
      "execution_count": null,
      "outputs": [
        {
          "output_type": "execute_result",
          "data": {
            "text/plain": [
              "8"
            ]
          },
          "metadata": {},
          "execution_count": 102
        }
      ]
    },
    {
      "cell_type": "code",
      "source": [
        "division = lambda a,b: a/b\n",
        "division (3,5)"
      ],
      "metadata": {
        "colab": {
          "base_uri": "https://localhost:8080/"
        },
        "id": "n44Y73jmJzLR",
        "outputId": "84e25ced-77fc-44be-c095-ad98ef5d9c03"
      },
      "execution_count": null,
      "outputs": [
        {
          "output_type": "execute_result",
          "data": {
            "text/plain": [
              "0.6"
            ]
          },
          "metadata": {},
          "execution_count": 5
        }
      ]
    },
    {
      "cell_type": "code",
      "source": [
        "square =lambda x:x**2\n",
        "square(2)"
      ],
      "metadata": {
        "colab": {
          "base_uri": "https://localhost:8080/"
        },
        "id": "PXTTxrSbLKii",
        "outputId": "24b9413f-1838-432c-9d13-52f368bc2e1b"
      },
      "execution_count": null,
      "outputs": [
        {
          "output_type": "execute_result",
          "data": {
            "text/plain": [
              "4"
            ]
          },
          "metadata": {},
          "execution_count": 14
        }
      ]
    },
    {
      "cell_type": "code",
      "source": [
        "max =lambda a,b : print(\"a is greater\") if a>b else print(\"b is greater\")\n",
        "max(2,5)\n",
        "\n"
      ],
      "metadata": {
        "colab": {
          "base_uri": "https://localhost:8080/"
        },
        "id": "oBkwpd9hLWdC",
        "outputId": "58d8ffce-8968-4dc5-e593-5dc8932b18cd"
      },
      "execution_count": null,
      "outputs": [
        {
          "output_type": "stream",
          "name": "stdout",
          "text": [
            "b is greater\n"
          ]
        }
      ]
    },
    {
      "cell_type": "code",
      "source": [
        "celius=lambda c :1.8*c+32\n",
        "celius(2)"
      ],
      "metadata": {
        "colab": {
          "base_uri": "https://localhost:8080/"
        },
        "id": "U9SdhV6eOEEs",
        "outputId": "b74872a4-81ba-483a-ee19-281d32c72c47"
      },
      "execution_count": null,
      "outputs": [
        {
          "output_type": "execute_result",
          "data": {
            "text/plain": [
              "35.6"
            ]
          },
          "metadata": {},
          "execution_count": 44
        }
      ]
    },
    {
      "cell_type": "code",
      "source": [
        "# class\n",
        "\n",
        "class school:\n",
        "  pass"
      ],
      "metadata": {
        "id": "QQkVXzfuSHm_"
      },
      "execution_count": null,
      "outputs": []
    },
    {
      "cell_type": "code",
      "source": [
        "s=school()"
      ],
      "metadata": {
        "id": "FwYWjBU3S1Q3"
      },
      "execution_count": null,
      "outputs": []
    },
    {
      "cell_type": "code",
      "source": [
        "print(type(s))"
      ],
      "metadata": {
        "colab": {
          "base_uri": "https://localhost:8080/"
        },
        "id": "ZPgu_Km0TDvN",
        "outputId": "a4f97a2f-300a-4528-e5ad-054f207576fc"
      },
      "execution_count": null,
      "outputs": [
        {
          "output_type": "stream",
          "name": "stdout",
          "text": [
            "<class '__main__.school'>\n"
          ]
        }
      ]
    },
    {
      "cell_type": "code",
      "source": [
        "class itv:\n",
        "  def __init__(self,name,age):\n",
        "    self.name=name\n",
        "    self.age=age\n"
      ],
      "metadata": {
        "id": "irhuIs9VU4N4"
      },
      "execution_count": null,
      "outputs": []
    },
    {
      "cell_type": "code",
      "source": [
        "s1 = itv (\"swathi\",22)"
      ],
      "metadata": {
        "id": "10aVKD4mXily"
      },
      "execution_count": null,
      "outputs": []
    },
    {
      "cell_type": "code",
      "source": [
        "s1.name"
      ],
      "metadata": {
        "colab": {
          "base_uri": "https://localhost:8080/",
          "height": 35
        },
        "id": "0KT7CF_kYpJG",
        "outputId": "3124a903-353a-474c-a05a-301bf86dfbd4"
      },
      "execution_count": null,
      "outputs": [
        {
          "output_type": "execute_result",
          "data": {
            "text/plain": [
              "'swathi'"
            ],
            "application/vnd.google.colaboratory.intrinsic+json": {
              "type": "string"
            }
          },
          "metadata": {},
          "execution_count": 98
        }
      ]
    },
    {
      "cell_type": "code",
      "source": [
        "s1.age"
      ],
      "metadata": {
        "colab": {
          "base_uri": "https://localhost:8080/"
        },
        "id": "5EbDg3MzY25Q",
        "outputId": "13312b3d-6f75-47dc-f555-7f7283253274"
      },
      "execution_count": null,
      "outputs": [
        {
          "output_type": "execute_result",
          "data": {
            "text/plain": [
              "22"
            ]
          },
          "metadata": {},
          "execution_count": 102
        }
      ]
    },
    {
      "cell_type": "code",
      "source": [
        "s2= itv(\"rup\",23)"
      ],
      "metadata": {
        "id": "X0on0bnBY-Cm"
      },
      "execution_count": null,
      "outputs": []
    },
    {
      "cell_type": "code",
      "source": [
        "s2.name"
      ],
      "metadata": {
        "colab": {
          "base_uri": "https://localhost:8080/",
          "height": 35
        },
        "id": "8j3AFRb4ZFwj",
        "outputId": "55e6813a-b165-41d9-a693-0c4838ff9290"
      },
      "execution_count": null,
      "outputs": [
        {
          "output_type": "execute_result",
          "data": {
            "text/plain": [
              "'rup'"
            ],
            "application/vnd.google.colaboratory.intrinsic+json": {
              "type": "string"
            }
          },
          "metadata": {},
          "execution_count": 106
        }
      ]
    },
    {
      "cell_type": "code",
      "source": [
        "s2.age"
      ],
      "metadata": {
        "colab": {
          "base_uri": "https://localhost:8080/",
          "height": 141
        },
        "id": "uIUyIvAFZHvt",
        "outputId": "8b5878cc-39a3-46ee-ac25-3077e92e9ffe"
      },
      "execution_count": null,
      "outputs": [
        {
          "output_type": "error",
          "ename": "NameError",
          "evalue": "name 's2' is not defined",
          "traceback": [
            "\u001b[0;31m---------------------------------------------------------------------------\u001b[0m",
            "\u001b[0;31mNameError\u001b[0m                                 Traceback (most recent call last)",
            "\u001b[0;32m<ipython-input-1-fbfc1bd9b7b9>\u001b[0m in \u001b[0;36m<cell line: 1>\u001b[0;34m()\u001b[0m\n\u001b[0;32m----> 1\u001b[0;31m \u001b[0ms2\u001b[0m\u001b[0;34m.\u001b[0m\u001b[0mage\u001b[0m\u001b[0;34m\u001b[0m\u001b[0;34m\u001b[0m\u001b[0m\n\u001b[0m",
            "\u001b[0;31mNameError\u001b[0m: name 's2' is not defined"
          ]
        }
      ]
    },
    {
      "cell_type": "code",
      "source": [
        "x=0\n",
        "if x>0:\n",
        "  print(\"po\")\n",
        "elif x==0:\n",
        "  print(\"bo\")\n",
        "else:\n",
        "  print(\"ne\")"
      ],
      "metadata": {
        "colab": {
          "base_uri": "https://localhost:8080/"
        },
        "id": "F1DG5swbO_O0",
        "outputId": "d321c625-cf74-468d-f9f1-13f130f597fc"
      },
      "execution_count": null,
      "outputs": [
        {
          "output_type": "stream",
          "name": "stdout",
          "text": [
            "bo\n"
          ]
        }
      ]
    },
    {
      "cell_type": "code",
      "source": [
        "x=13\n",
        "y=16\n",
        "print(x>=y)"
      ],
      "metadata": {
        "colab": {
          "base_uri": "https://localhost:8080/"
        },
        "id": "mxFKHGurSY26",
        "outputId": "52f682ed-987f-4cd2-d711-fb8a6a7e3458"
      },
      "execution_count": null,
      "outputs": [
        {
          "output_type": "stream",
          "name": "stdout",
          "text": [
            "False\n"
          ]
        }
      ]
    },
    {
      "cell_type": "code",
      "source": [
        "class smortphone:\n",
        "  def __init__(self,brand,year):\n",
        "    self.brand=brand\n",
        "    self.year=year"
      ],
      "metadata": {
        "id": "aj1-AC6jZXrS"
      },
      "execution_count": null,
      "outputs": []
    },
    {
      "cell_type": "code",
      "source": [
        "class itv:\n",
        "  def __init__(self,name,age,department=\"IT\"):\n",
        "    self.name=name\n",
        "    self.age=age"
      ],
      "metadata": {
        "id": "qf6fXE4lUf90"
      },
      "execution_count": null,
      "outputs": []
    },
    {
      "cell_type": "code",
      "source": [
        "per1=itv(\"swathi\",23)\n",
        "per1.name\n"
      ],
      "metadata": {
        "colab": {
          "base_uri": "https://localhost:8080/",
          "height": 35
        },
        "id": "cDa004YyUrsW",
        "outputId": "11532bf8-f6e9-4ff4-f4b9-aa7626ced4b1"
      },
      "execution_count": null,
      "outputs": [
        {
          "output_type": "execute_result",
          "data": {
            "text/plain": [
              "'swathi'"
            ],
            "application/vnd.google.colaboratory.intrinsic+json": {
              "type": "string"
            }
          },
          "metadata": {},
          "execution_count": 19
        }
      ]
    },
    {
      "cell_type": "code",
      "source": [
        "per1.department=\" nIT\"\n",
        "per1.department\n"
      ],
      "metadata": {
        "colab": {
          "base_uri": "https://localhost:8080/",
          "height": 35
        },
        "id": "2q9vyFBZVYr_",
        "outputId": "10b0b837-9e52-497e-ea58-d6023e84e325"
      },
      "execution_count": null,
      "outputs": [
        {
          "output_type": "execute_result",
          "data": {
            "text/plain": [
              "'IT'"
            ],
            "application/vnd.google.colaboratory.intrinsic+json": {
              "type": "string"
            }
          },
          "metadata": {},
          "execution_count": 24
        }
      ]
    },
    {
      "cell_type": "code",
      "source": [
        "class itv:\n",
        "  def __init__(self,name,age):\n",
        "    self.name=name\n",
        "    self.age=age\n"
      ],
      "metadata": {
        "id": "51FA5ucjVr8d"
      },
      "execution_count": null,
      "outputs": []
    },
    {
      "cell_type": "code",
      "source": [
        "per1=itv(\"swa\",23)\n",
        "per1.name"
      ],
      "metadata": {
        "colab": {
          "base_uri": "https://localhost:8080/",
          "height": 35
        },
        "id": "HBzgznFQaDJP",
        "outputId": "beb332dc-0683-4c39-ac61-68763d172312"
      },
      "execution_count": null,
      "outputs": [
        {
          "output_type": "execute_result",
          "data": {
            "text/plain": [
              "'swa'"
            ],
            "application/vnd.google.colaboratory.intrinsic+json": {
              "type": "string"
            }
          },
          "metadata": {},
          "execution_count": 27
        }
      ]
    },
    {
      "cell_type": "code",
      "source": [
        "class itv:\n",
        "  def __init__(self,name,age):\n",
        "    self.name=name\n",
        "    self.__age=age\n",
        "  def get_age(self):\n",
        "    return self.__age\n"
      ],
      "metadata": {
        "id": "Us8ASKZUaKQk"
      },
      "execution_count": null,
      "outputs": []
    },
    {
      "cell_type": "code",
      "source": [
        "per1= itv(\"muthu\",34)\n",
        "\n"
      ],
      "metadata": {
        "id": "wDH6EzXFb6ap"
      },
      "execution_count": null,
      "outputs": []
    },
    {
      "cell_type": "code",
      "source": [
        "per1.get_age()"
      ],
      "metadata": {
        "colab": {
          "base_uri": "https://localhost:8080/"
        },
        "id": "qNECi68qeK-d",
        "outputId": "c5bb524d-f9d0-4c82-e327-7a0146db440c"
      },
      "execution_count": null,
      "outputs": [
        {
          "output_type": "execute_result",
          "data": {
            "text/plain": [
              "34"
            ]
          },
          "metadata": {},
          "execution_count": 68
        }
      ]
    },
    {
      "cell_type": "code",
      "source": [
        "class Eagle:\n",
        "  def __init__(self,name,age,account_no=5):\n",
        "    self.name=name\n",
        "    self.age=age\n",
        "    self.__account_no=account_no\n",
        "  #getter\n",
        "  def get_account_no(self):\n",
        "   return self.__account_no\n",
        "  #setter\n",
        "  def set_account_no(self,account_no):\n",
        "     self.__account_no=account_no"
      ],
      "metadata": {
        "id": "9dI0iOV8egT-"
      },
      "execution_count": null,
      "outputs": []
    },
    {
      "cell_type": "code",
      "source": [
        "obj=Eagle(\"swathi\",23,12345)\n",
        "obj.get_account_no()"
      ],
      "metadata": {
        "colab": {
          "base_uri": "https://localhost:8080/"
        },
        "id": "VXmkN0qQgnrW",
        "outputId": "61301981-0657-413c-d4ec-a816b9365f52"
      },
      "execution_count": null,
      "outputs": [
        {
          "output_type": "execute_result",
          "data": {
            "text/plain": [
              "12345"
            ]
          },
          "metadata": {},
          "execution_count": 49
        }
      ]
    },
    {
      "cell_type": "code",
      "source": [
        "obj.set_account_no(6789)"
      ],
      "metadata": {
        "id": "BqOXSt7fkjO5"
      },
      "execution_count": null,
      "outputs": []
    },
    {
      "cell_type": "code",
      "source": [
        "obj.get_account_no()"
      ],
      "metadata": {
        "colab": {
          "base_uri": "https://localhost:8080/"
        },
        "id": "7JxJIBqNlle9",
        "outputId": "1c007f89-98dd-41da-a846-618a966f71bf"
      },
      "execution_count": null,
      "outputs": [
        {
          "output_type": "execute_result",
          "data": {
            "text/plain": [
              "6789"
            ]
          },
          "metadata": {},
          "execution_count": 89
        }
      ]
    },
    {
      "cell_type": "code",
      "source": [
        "class srm:\n",
        "  def __init__(self,Name,age,salary):\n",
        "    self.Name=Name\n",
        "    self.__age=age\n",
        "    self.__salary=salary\n",
        " #getter\n",
        "  def get_age(self):\n",
        "   return self.__age\n",
        "  def get_salary(self):\n",
        "   return self.__salary\n",
        "\n",
        " #setter\n",
        "  def set_age(self,age):\n",
        "    self.__age=age\n",
        "  def set_salary(self,salary):\n",
        "    self.__salary=salary\n"
      ],
      "metadata": {
        "id": "vIRTS6bdloTc"
      },
      "execution_count": null,
      "outputs": []
    },
    {
      "cell_type": "code",
      "source": [
        "per1=srm(\"Anu\",22,20000)\n",
        "per1.get_age()"
      ],
      "metadata": {
        "colab": {
          "base_uri": "https://localhost:8080/"
        },
        "id": "5U5uYnBQ3iJS",
        "outputId": "126368d1-8c37-4758-b59c-f60422031e5e"
      },
      "execution_count": null,
      "outputs": [
        {
          "output_type": "execute_result",
          "data": {
            "text/plain": [
              "22"
            ]
          },
          "metadata": {},
          "execution_count": 51
        }
      ]
    },
    {
      "cell_type": "code",
      "source": [
        "per1.set_age(30)"
      ],
      "metadata": {
        "id": "ovm9G3Lo5YoE"
      },
      "execution_count": null,
      "outputs": []
    },
    {
      "cell_type": "code",
      "source": [
        "per1.get_age()"
      ],
      "metadata": {
        "colab": {
          "base_uri": "https://localhost:8080/"
        },
        "id": "AR5MVL059kxP",
        "outputId": "4113dbad-7708-4987-bfcc-e13daf241670"
      },
      "execution_count": null,
      "outputs": [
        {
          "output_type": "execute_result",
          "data": {
            "text/plain": [
              "30"
            ]
          },
          "metadata": {},
          "execution_count": 55
        }
      ]
    },
    {
      "cell_type": "code",
      "source": [
        "per2=srm(\"ramaya\",50,50000)\n",
        "per2.get_salary()"
      ],
      "metadata": {
        "colab": {
          "base_uri": "https://localhost:8080/"
        },
        "id": "QcJTjTse9qu_",
        "outputId": "d2dcb3b4-a8de-46af-854f-de62df6b2e32"
      },
      "execution_count": null,
      "outputs": [
        {
          "output_type": "execute_result",
          "data": {
            "text/plain": [
              "50000"
            ]
          },
          "metadata": {},
          "execution_count": 66
        }
      ]
    },
    {
      "cell_type": "code",
      "source": [
        "per2.set_salary(60000)"
      ],
      "metadata": {
        "id": "AY3dYlIy94yK"
      },
      "execution_count": null,
      "outputs": []
    },
    {
      "cell_type": "code",
      "source": [
        "per2.get_salary()"
      ],
      "metadata": {
        "colab": {
          "base_uri": "https://localhost:8080/"
        },
        "id": "swrVc3b6989y",
        "outputId": "7e571885-dc71-483c-ee6a-1e73c6e0e5ff"
      },
      "execution_count": null,
      "outputs": [
        {
          "output_type": "execute_result",
          "data": {
            "text/plain": [
              "60000"
            ]
          },
          "metadata": {},
          "execution_count": 68
        }
      ]
    },
    {
      "cell_type": "code",
      "source": [
        "class college:\n",
        "  def __init__(self,Name,age,dept,salary):\n",
        "   self.Name=Name\n",
        "   self.__age=age\n",
        "   self.dept=dept\n",
        "   self.__salary=salary\n",
        " #getter\n",
        "  def get_age(self):\n",
        "    return self.__age\n",
        "  def get_salary(salary):\n",
        "    return self.__salary\n",
        "\n",
        " #setter\n",
        "  def set_age(self,age):\n",
        "    self.__age=age\n",
        "  def set_salary(self,salary):\n",
        "    self.__salary=salary"
      ],
      "metadata": {
        "id": "YpS04cWe-Aa8"
      },
      "execution_count": null,
      "outputs": []
    },
    {
      "cell_type": "code",
      "source": [
        "per1=college(\"rupesh\",22,\"IT\",300000)\n",
        "per2=college(\"Swathi\",23,\"HR\",530000)\n",
        "per3=college(\"Ramaya\",25,\"non-IT\",23000)"
      ],
      "metadata": {
        "id": "6yFuCkirYhye"
      },
      "execution_count": null,
      "outputs": []
    },
    {
      "cell_type": "code",
      "source": [
        "per3.set_age(40)"
      ],
      "metadata": {
        "id": "aqllvqpra9S0"
      },
      "execution_count": null,
      "outputs": []
    },
    {
      "cell_type": "code",
      "source": [
        "per3.get_age()"
      ],
      "metadata": {
        "colab": {
          "base_uri": "https://localhost:8080/",
          "height": 141
        },
        "id": "9mOa5QB3bDXT",
        "outputId": "0290f07b-b669-4597-e277-7eed6262e7c8"
      },
      "execution_count": null,
      "outputs": [
        {
          "output_type": "error",
          "ename": "NameError",
          "evalue": "name 'per3' is not defined",
          "traceback": [
            "\u001b[0;31m---------------------------------------------------------------------------\u001b[0m",
            "\u001b[0;31mNameError\u001b[0m                                 Traceback (most recent call last)",
            "\u001b[0;32m<ipython-input-1-e8c37d1341c5>\u001b[0m in \u001b[0;36m<cell line: 1>\u001b[0;34m()\u001b[0m\n\u001b[0;32m----> 1\u001b[0;31m \u001b[0mper3\u001b[0m\u001b[0;34m.\u001b[0m\u001b[0mget_age\u001b[0m\u001b[0;34m(\u001b[0m\u001b[0;34m)\u001b[0m\u001b[0;34m\u001b[0m\u001b[0;34m\u001b[0m\u001b[0m\n\u001b[0m",
            "\u001b[0;31mNameError\u001b[0m: name 'per3' is not defined"
          ]
        }
      ]
    },
    {
      "cell_type": "code",
      "source": [
        "name= \"muthu\"\n",
        "len(name)"
      ],
      "metadata": {
        "colab": {
          "base_uri": "https://localhost:8080/"
        },
        "id": "Lk7UrS3i8jau",
        "outputId": "ea4b028c-8f5c-4e7c-9c25-7cfd9f088ec9"
      },
      "execution_count": null,
      "outputs": [
        {
          "output_type": "execute_result",
          "data": {
            "text/plain": [
              "5"
            ]
          },
          "metadata": {},
          "execution_count": 13
        }
      ]
    },
    {
      "cell_type": "code",
      "source": [
        "reversed_string=\"swathi\"[::-1]\n",
        "print(reversed_string)"
      ],
      "metadata": {
        "colab": {
          "base_uri": "https://localhost:8080/"
        },
        "id": "hIsmFZD0Hc7c",
        "outputId": "3c0fa99f-ead5-4e82-d290-aedc16d1097f"
      },
      "execution_count": null,
      "outputs": [
        {
          "output_type": "stream",
          "name": "stdout",
          "text": [
            "ihtaws\n"
          ]
        }
      ]
    },
    {
      "cell_type": "code",
      "source": [
        "name=\"  rupesh\"\n",
        "print(trim_name)"
      ],
      "metadata": {
        "colab": {
          "base_uri": "https://localhost:8080/"
        },
        "id": "tphI8gqlJfK2",
        "outputId": "9fc0b919-3672-47a1-857d-9aa3ba22134d"
      },
      "execution_count": null,
      "outputs": [
        {
          "output_type": "stream",
          "name": "stdout",
          "text": [
            "  rupesh\n"
          ]
        }
      ]
    }
  ]
}