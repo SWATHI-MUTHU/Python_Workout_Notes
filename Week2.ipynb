{
  "nbformat": 4,
  "nbformat_minor": 0,
  "metadata": {
    "colab": {
      "provenance": [],
      "authorship_tag": "ABX9TyPiMMi4eCpsCWiefwyQetUQ",
      "include_colab_link": true
    },
    "kernelspec": {
      "name": "python3",
      "display_name": "Python 3"
    },
    "language_info": {
      "name": "python"
    }
  },
  "cells": [
    {
      "cell_type": "markdown",
      "metadata": {
        "id": "view-in-github",
        "colab_type": "text"
      },
      "source": [
        "<a href=\"https://colab.research.google.com/github/SWATHI-MUTHU/Python_Workout_Notes/blob/main/Week2.ipynb\" target=\"_parent\"><img src=\"https://colab.research.google.com/assets/colab-badge.svg\" alt=\"Open In Colab\"/></a>"
      ]
    },
    {
      "cell_type": "code",
      "source": [
        " age=int(input(\"enter your age:\"))\n",
        "if age >= 18:\n",
        "    print(\"eligible to vote\")"
      ],
      "metadata": {
        "id": "yzZUbjJ9pgu-",
        "colab": {
          "base_uri": "https://localhost:8080/"
        },
        "outputId": "c1224a8d-d325-4709-aa59-04d3ebbd6228"
      },
      "execution_count": null,
      "outputs": [
        {
          "name": "stdout",
          "output_type": "stream",
          "text": [
            "enter your age:12\n"
          ]
        }
      ]
    },
    {
      "cell_type": "code",
      "source": [
        "age=int(input(\"enter your age:\"))\n",
        "if age>=18 and age<=35:\n",
        "    print(\"ur young blood\")"
      ],
      "metadata": {
        "id": "Es35fxpFr0xV"
      },
      "execution_count": null,
      "outputs": []
    },
    {
      "cell_type": "code",
      "source": [
        "cost =int(input(\"enter the cost:\"))\n",
        "if cost>=100 and cost <=1000:\n",
        "  print(\"Eligible for discount\")"
      ],
      "metadata": {
        "colab": {
          "base_uri": "https://localhost:8080/"
        },
        "id": "YSBlKvtotn1y",
        "outputId": "67cb0fe5-23b4-4831-f640-f86640d5a5ec"
      },
      "execution_count": null,
      "outputs": [
        {
          "output_type": "stream",
          "name": "stdout",
          "text": [
            "enter the cost:109\n",
            "Eligible for discount\n"
          ]
        }
      ]
    },
    {
      "cell_type": "code",
      "source": [
        "age=int(input(\"enter your age:\"))\n",
        "if age>=18:\n",
        "    print(\"eligible for vote\")\n",
        "else:\n",
        "    print(\"not eligible for vote\")"
      ],
      "metadata": {
        "colab": {
          "base_uri": "https://localhost:8080/"
        },
        "id": "Mb2KI2SBtkcY",
        "outputId": "1fc101f1-b3b9-48cf-cb42-36ec7ba57852"
      },
      "execution_count": null,
      "outputs": [
        {
          "output_type": "stream",
          "name": "stdout",
          "text": [
            "enter your age:13\n",
            "not eligible for vote\n"
          ]
        }
      ]
    },
    {
      "cell_type": "code",
      "source": [
        "price=int(input(\"enter the price:\"))\n",
        "if price>1000:\n",
        "    print(f\"discount is {price*0.2}\")\n",
        "else:\n",
        "    print(\"no discount\")\n",
        "\n"
      ],
      "metadata": {
        "id": "nj9n6RvLutfO",
        "colab": {
          "base_uri": "https://localhost:8080/"
        },
        "outputId": "51da3215-500b-4f3d-cfd0-2fb804f0a693"
      },
      "execution_count": null,
      "outputs": [
        {
          "output_type": "stream",
          "name": "stdout",
          "text": [
            "enter the price:999\n",
            "no discount\n"
          ]
        }
      ]
    },
    {
      "cell_type": "code",
      "source": [
        "cost=int(input(\"enter your cost\"))\n",
        "if cost>=2000:\n",
        "    print(f\"discount is {cost*0.7}\")\n",
        "else:\n",
        "    print(f\"discount is {cost*0.8}\")"
      ],
      "metadata": {
        "id": "RfJYnY5yzxJl",
        "colab": {
          "base_uri": "https://localhost:8080/"
        },
        "outputId": "414496de-4e2b-49c4-81e9-ffadaaf1cc9c"
      },
      "execution_count": null,
      "outputs": [
        {
          "output_type": "stream",
          "name": "stdout",
          "text": [
            "enter your cost10\n",
            "discount is 8.0\n"
          ]
        }
      ]
    },
    {
      "cell_type": "code",
      "source": [
        "price=int(input(\"enter your price\"))\n",
        "if price>=100 and price<1000:\n",
        "  print(f\"total bill is {price*0.9}\")\n",
        "elif price>=1000 and price<=2000:\n",
        "  print(f\"total bill is {price*0.8}\")\n",
        "elif price>2000 :\n",
        "  print(f\"total bill is{price*0.7}\")\n",
        "else:\n",
        "  print(\"no eligible\")\n",
        "\n",
        "\n",
        "\n"
      ],
      "metadata": {
        "id": "h3jqyLTK0hxB",
        "colab": {
          "base_uri": "https://localhost:8080/"
        },
        "outputId": "c6dd620f-4d9f-4b98-fce8-e48d9cf027b6"
      },
      "execution_count": null,
      "outputs": [
        {
          "output_type": "stream",
          "name": "stdout",
          "text": [
            "enter your price1100\n",
            "total bill is 880.0\n"
          ]
        }
      ]
    },
    {
      "cell_type": "code",
      "source": [
        "price=int(input(\"enter your price\"))\n",
        "if price>=100 and price<1000:\n",
        "  print(f\"total bill is {price*0.9}\")\n",
        "elif price>=1000 and price<=2000:\n",
        "  print(f\"total bill is {price*0.8}\")\n",
        "elif price>2000 and price<=3000 :\n",
        "  print(f\"total bill is{price*0.7}\")\n",
        "elif price>3000:\n",
        "  print(f\"total bill is{price*0.6}\")\n",
        "else:\n",
        "  print(\"no eligible\")"
      ],
      "metadata": {
        "colab": {
          "base_uri": "https://localhost:8080/"
        },
        "id": "wiuQWZNa5Xpt",
        "outputId": "393fc138-92e3-477d-bf16-efdfdc4c17b5"
      },
      "execution_count": null,
      "outputs": [
        {
          "output_type": "stream",
          "name": "stdout",
          "text": [
            "enter your price20\n",
            "no eligible\n"
          ]
        }
      ]
    },
    {
      "cell_type": "code",
      "source": [
        "price=int(input(\"enter your price\"))\n",
        "if price>=100 and price<1000:\n",
        "  print(f\"total bill is {price*0.9}\")\n",
        "elif price>=1000 and price<=2000:\n",
        "  print(f\"total bill is {price*0.8}\")\n",
        "elif price>2000 and price<=3000 :\n",
        "  print(f\"total bill is{price*0.7}\")\n",
        "elif price>3000:\n",
        "  if price==3999:\n",
        "      print(\"u win a special gift\")\n",
        "  print(f\"total bill is{price*0.6}\")\n",
        "\n",
        "else:\n",
        "  print(\"no eligible\")"
      ],
      "metadata": {
        "id": "c4xw9mJB7BT6",
        "colab": {
          "base_uri": "https://localhost:8080/"
        },
        "outputId": "92e6b8b8-17d2-436a-89f6-9d9ce6f8067c"
      },
      "execution_count": null,
      "outputs": [
        {
          "output_type": "stream",
          "name": "stdout",
          "text": [
            "enter your price3999\n",
            "u win a special gift\n",
            "total bill is2399.4\n"
          ]
        }
      ]
    },
    {
      "cell_type": "code",
      "source": [
        "age=int(input(\"enter Joining_age:\"))\n",
        "while age <= 60:\n",
        "     print(age)\n",
        "     age= age+1\n",
        "\n"
      ],
      "metadata": {
        "colab": {
          "base_uri": "https://localhost:8080/"
        },
        "id": "9uHxLuNpyGCw",
        "outputId": "95ec135d-d539-4b5e-8879-76a6bab19fda"
      },
      "execution_count": null,
      "outputs": [
        {
          "name": "stdout",
          "output_type": "stream",
          "text": [
            "enter Joining_age:66\n"
          ]
        }
      ]
    },
    {
      "cell_type": "code",
      "source": [
        "age=int(input(\"enter Joining_age:\"))\n",
        "while age<=60 :\n",
        "     print(age)\n",
        "     age=age+1\n",
        "else:\n",
        "   print(\"time to retire\")"
      ],
      "metadata": {
        "colab": {
          "base_uri": "https://localhost:8080/"
        },
        "id": "7TDPf_Zt1gxJ",
        "outputId": "5a29d0b3-7367-4b32-fb70-0d3e24c1fc4d"
      },
      "execution_count": null,
      "outputs": [
        {
          "output_type": "stream",
          "name": "stdout",
          "text": [
            "enter Joining_age:66\n",
            "time to retire\n"
          ]
        }
      ]
    },
    {
      "cell_type": "code",
      "source": [
        "amount=int(input(\"enter your amount:\"))\n",
        "while amount!=0:\n",
        "    print(amount)\n",
        "    amount=amount-100\n",
        "else:\n",
        "  print(\"no cash\")\n",
        "\n"
      ],
      "metadata": {
        "colab": {
          "base_uri": "https://localhost:8080/"
        },
        "id": "A_68sW8S3aYp",
        "outputId": "a6d0ca59-6e12-47a6-9fe9-70a7147405ae"
      },
      "execution_count": null,
      "outputs": [
        {
          "output_type": "stream",
          "name": "stdout",
          "text": [
            "enter your amount:100\n",
            "100\n",
            "no cash\n"
          ]
        }
      ]
    },
    {
      "cell_type": "code",
      "source": [
        "L=[\"true\",\"Am\",12,7.1,3+5j]\n",
        "for i in L:\n",
        "  print(i)\n"
      ],
      "metadata": {
        "colab": {
          "base_uri": "https://localhost:8080/"
        },
        "id": "ztW4DHfb7yli",
        "outputId": "412f5acc-d80a-4744-c3cf-641e3c0ceb67"
      },
      "execution_count": null,
      "outputs": [
        {
          "output_type": "stream",
          "name": "stdout",
          "text": [
            "true\n",
            "Am\n",
            "12\n",
            "7.1\n",
            "(3+5j)\n"
          ]
        }
      ]
    },
    {
      "cell_type": "code",
      "source": [
        "str_1=\"swathi\"\n",
        "for i in str_1:\n",
        "  print(i)"
      ],
      "metadata": {
        "colab": {
          "base_uri": "https://localhost:8080/"
        },
        "id": "jv8ngZM_8LFI",
        "outputId": "b2d84a78-4009-408f-b47c-b1e7d424fe4e"
      },
      "execution_count": null,
      "outputs": [
        {
          "output_type": "stream",
          "name": "stdout",
          "text": [
            "s\n",
            "w\n",
            "a\n",
            "t\n",
            "h\n",
            "i\n"
          ]
        }
      ]
    },
    {
      "cell_type": "code",
      "source": [
        "fruits=[\"apple\",\"cherry\",\"mango\",\"banana\"]\n",
        "for i in fruits:\n",
        "  print(i)\n",
        "  if i==\"cherry\":\n",
        "     print(\"above friuts is cherry\")"
      ],
      "metadata": {
        "colab": {
          "base_uri": "https://localhost:8080/"
        },
        "id": "0V37mup7-5FW",
        "outputId": "5e91f46d-caa8-4e56-b7c6-38f13560b2cc"
      },
      "execution_count": null,
      "outputs": [
        {
          "output_type": "stream",
          "name": "stdout",
          "text": [
            "apple\n",
            "cherry\n",
            "above friuts is cherry\n",
            "mango\n",
            "banana\n"
          ]
        }
      ]
    },
    {
      "cell_type": "code",
      "source": [
        "for i in range(1,10):\n",
        "  print(i)"
      ],
      "metadata": {
        "colab": {
          "base_uri": "https://localhost:8080/"
        },
        "id": "txPLic0nB6W-",
        "outputId": "6449cd68-b21f-4dc1-aaa7-ee3b5359e822"
      },
      "execution_count": null,
      "outputs": [
        {
          "output_type": "stream",
          "name": "stdout",
          "text": [
            "1\n",
            "2\n",
            "3\n",
            "4\n",
            "5\n",
            "6\n",
            "7\n",
            "8\n",
            "9\n"
          ]
        }
      ]
    },
    {
      "cell_type": "code",
      "source": [
        "for i in range(0,12,2):\n",
        " print(i)"
      ],
      "metadata": {
        "colab": {
          "base_uri": "https://localhost:8080/"
        },
        "id": "Mqe_OiS4CvXM",
        "outputId": "cc3d0e1f-9e6c-4481-9e06-70dbb26f19e8"
      },
      "execution_count": null,
      "outputs": [
        {
          "output_type": "stream",
          "name": "stdout",
          "text": [
            "0\n",
            "2\n",
            "4\n",
            "6\n",
            "8\n",
            "10\n"
          ]
        }
      ]
    },
    {
      "cell_type": "code",
      "source": [
        "L=[\"banana\",\"apple\",\"cherry\",\"mango\"]\n",
        "for i in L:\n",
        "  if i==\"cherry\":\n",
        "     print(\"It is cheery\")\n",
        "     break\n",
        "  print(i)"
      ],
      "metadata": {
        "colab": {
          "base_uri": "https://localhost:8080/"
        },
        "id": "vbBODrcYEKJ9",
        "outputId": "8377e4c7-fd52-4e1a-8368-87ffe2cdd717"
      },
      "execution_count": null,
      "outputs": [
        {
          "output_type": "stream",
          "name": "stdout",
          "text": [
            "banana\n",
            "apple\n",
            "It is cheery\n"
          ]
        }
      ]
    },
    {
      "cell_type": "code",
      "source": [
        "L=[\"banana\",\"apple\",\"cherry\",\"mango\"]\n",
        "for i in L:\n",
        "  if i==\"cherry\":\n",
        "     print(\"It is cheery\")\n",
        "     pass\n",
        "  print(i)"
      ],
      "metadata": {
        "colab": {
          "base_uri": "https://localhost:8080/"
        },
        "id": "j5wkeT3RFm7x",
        "outputId": "fc87b679-1160-49d0-c6ce-6dce9790cb1b"
      },
      "execution_count": null,
      "outputs": [
        {
          "output_type": "stream",
          "name": "stdout",
          "text": [
            "banana\n",
            "apple\n",
            "It is cheery\n",
            "cherry\n",
            "mango\n"
          ]
        }
      ]
    },
    {
      "cell_type": "code",
      "source": [
        "L=[\"banana\",\"apple\",\"cherry\",\"mango\"]\n",
        "for i in L:\n",
        "  if i==\"cherry\":\n",
        "     print(\"It is cheery\")\n",
        "     continue\n",
        "  print(i)"
      ],
      "metadata": {
        "id": "o90jAR16FtJl"
      },
      "execution_count": null,
      "outputs": []
    },
    {
      "cell_type": "code",
      "source": [
        "Department =[\"HR\",\"IT\",\"Non-IT\",\"sales\",\"Healthcare\"]\n",
        "for a in Department:\n",
        "  if a==\"sales\":\n",
        "    print(\"My department is sales\")\n",
        "    break\n",
        "  print(a)"
      ],
      "metadata": {
        "colab": {
          "base_uri": "https://localhost:8080/"
        },
        "id": "XVWsRMoDSvKT",
        "outputId": "e5b97e5c-abc7-4ded-b51a-98e97f0b6033"
      },
      "execution_count": null,
      "outputs": [
        {
          "output_type": "stream",
          "name": "stdout",
          "text": [
            "HR\n",
            "IT\n",
            "Non-IT\n",
            "My department is sales\n"
          ]
        }
      ]
    },
    {
      "cell_type": "code",
      "source": [
        "Department =[\"HR\",\"IT\",\"Non-IT\",\"sales\",\"Healthcare\"]\n",
        "for a in Department:\n",
        "  if a==\"IT\":\n",
        "    print(\"my department is IT\")\n",
        "    pass\n",
        "  print(a)"
      ],
      "metadata": {
        "colab": {
          "base_uri": "https://localhost:8080/"
        },
        "id": "hiMJqC8LT0RN",
        "outputId": "b8dec601-9d52-40db-ee15-ef751a193d28"
      },
      "execution_count": null,
      "outputs": [
        {
          "output_type": "stream",
          "name": "stdout",
          "text": [
            "HR\n",
            "my department is IT\n",
            "IT\n",
            "Non-IT\n",
            "sales\n",
            "Healthcare\n"
          ]
        }
      ]
    },
    {
      "cell_type": "code",
      "source": [
        "Department =[\"HR\",\"IT\",\"Non-IT\",\"sales\",\"Healthcare\"]\n",
        "for x in Department:\n",
        "  if x==\"Non-IT\":\n",
        "    print(\"my department id non-it\")\n",
        "    continue\n",
        "  print(x)"
      ],
      "metadata": {
        "colab": {
          "base_uri": "https://localhost:8080/"
        },
        "id": "fK6XF7iKUbB0",
        "outputId": "35a73f21-2a39-443b-f821-fd0c0ace3cc4"
      },
      "execution_count": null,
      "outputs": [
        {
          "output_type": "stream",
          "name": "stdout",
          "text": [
            "HR\n",
            "IT\n",
            "my department id non-it\n",
            "sales\n",
            "Healthcare\n"
          ]
        }
      ]
    },
    {
      "cell_type": "code",
      "source": [
        "x=\"hello\"\n",
        "\n",
        "y=\" swathi\"\n",
        "print(x + y)"
      ],
      "metadata": {
        "colab": {
          "base_uri": "https://localhost:8080/"
        },
        "id": "IKj54wAOa94w",
        "outputId": "919c2a55-775d-419f-aa1d-15fbd42c0921"
      },
      "execution_count": null,
      "outputs": [
        {
          "output_type": "stream",
          "name": "stdout",
          "text": [
            "hello swathi\n"
          ]
        }
      ]
    },
    {
      "cell_type": "code",
      "source": [
        "def add(x,y):\n",
        "  c=x+y\n",
        "  return c"
      ],
      "metadata": {
        "id": "vpgrmkaJHtro"
      },
      "execution_count": null,
      "outputs": []
    },
    {
      "cell_type": "code",
      "source": [
        "add(10,19)"
      ],
      "metadata": {
        "colab": {
          "base_uri": "https://localhost:8080/"
        },
        "id": "04zKMDUUIyEg",
        "outputId": "1dcdad1e-c275-4ffe-af2b-7c286edf51c2"
      },
      "execution_count": null,
      "outputs": [
        {
          "output_type": "execute_result",
          "data": {
            "text/plain": [
              "29"
            ]
          },
          "metadata": {},
          "execution_count": 11
        }
      ]
    },
    {
      "cell_type": "code",
      "source": [
        "def multiply(x,y):\n",
        "  c=x*y\n",
        "  return c"
      ],
      "metadata": {
        "id": "vhp-MZM1Jxyr"
      },
      "execution_count": null,
      "outputs": []
    },
    {
      "cell_type": "code",
      "source": [
        "multiply(10,2)"
      ],
      "metadata": {
        "colab": {
          "base_uri": "https://localhost:8080/"
        },
        "id": "3Q4aiQVjKYOu",
        "outputId": "12aab2c3-e54b-4516-c142-87803edf9a42"
      },
      "execution_count": null,
      "outputs": [
        {
          "output_type": "execute_result",
          "data": {
            "text/plain": [
              "20"
            ]
          },
          "metadata": {},
          "execution_count": 16
        }
      ]
    },
    {
      "cell_type": "code",
      "source": [
        "def maximum(a,b):\n",
        "  if a>=b:\n",
        "    return (\"a is greater\")\n",
        "  elif a==b:\n",
        "    return (\"both are same\")\n",
        "  else:\n",
        "    return (\"b is greater\")\n"
      ],
      "metadata": {
        "id": "GfA4KUxlLVZT"
      },
      "execution_count": null,
      "outputs": []
    },
    {
      "cell_type": "code",
      "source": [
        "a=8\n",
        "b=5\n",
        "maximum(a,b)"
      ],
      "metadata": {
        "colab": {
          "base_uri": "https://localhost:8080/",
          "height": 35
        },
        "id": "n_boP89bMOxd",
        "outputId": "fea9728f-0375-4535-c556-68f3089f5a57"
      },
      "execution_count": null,
      "outputs": [
        {
          "output_type": "execute_result",
          "data": {
            "text/plain": [
              "'a is greater'"
            ],
            "application/vnd.google.colaboratory.intrinsic+json": {
              "type": "string"
            }
          },
          "metadata": {},
          "execution_count": 33
        }
      ]
    },
    {
      "cell_type": "code",
      "source": [
        "l=[2,5,6.7,9,\"swa\",\"rup\",56]\n",
        "def test(a):\n",
        "   n=[]\n",
        "   for i in a:\n",
        "    if type(i)==int or type(i)==float:\n",
        "     n.append(i)\n",
        "   return n\n"
      ],
      "metadata": {
        "id": "TZhy29G6PSgq"
      },
      "execution_count": null,
      "outputs": []
    },
    {
      "cell_type": "code",
      "source": [
        "test(l)"
      ],
      "metadata": {
        "colab": {
          "base_uri": "https://localhost:8080/"
        },
        "id": "94dfcHOGQt8_",
        "outputId": "01f3ec2e-060f-499a-eca0-b8ca7cc1926c"
      },
      "execution_count": null,
      "outputs": [
        {
          "output_type": "execute_result",
          "data": {
            "text/plain": [
              "[2, 5, 6.7, 9, 56]"
            ]
          },
          "metadata": {},
          "execution_count": 51
        }
      ]
    },
    {
      "cell_type": "code",
      "source": [
        "M=[\"anu\",23,78,3.6,\"True\",\"false\",\"ram\"]\n",
        "def sum(b):\n",
        "  n=[]\n",
        "  for i in b:\n",
        "    if type(i)==str or type(i)==bool:\n",
        "      n.append(i)\n",
        "  return n"
      ],
      "metadata": {
        "id": "-5qdyD67RhXW"
      },
      "execution_count": null,
      "outputs": []
    },
    {
      "cell_type": "code",
      "source": [
        "test(M)"
      ],
      "metadata": {
        "colab": {
          "base_uri": "https://localhost:8080/"
        },
        "id": "SqRB4sqDSWTZ",
        "outputId": "cacf7bab-588b-4d98-ecfa-6bd2911ae8e4"
      },
      "execution_count": null,
      "outputs": [
        {
          "output_type": "execute_result",
          "data": {
            "text/plain": [
              "['anu', 'True', 'false', 'ram']"
            ]
          },
          "metadata": {},
          "execution_count": 64
        }
      ]
    },
    {
      "cell_type": "code",
      "source": [
        "a=4\n",
        "b=7\n",
        "a,b=b,a\n",
        "print(a,b)\n"
      ],
      "metadata": {
        "colab": {
          "base_uri": "https://localhost:8080/"
        },
        "id": "vkzD_KLrU9IG",
        "outputId": "8a2560d6-bdae-460c-c3b0-3083f5119567"
      },
      "execution_count": null,
      "outputs": [
        {
          "output_type": "stream",
          "name": "stdout",
          "text": [
            "7 4\n"
          ]
        }
      ]
    }
  ]
}