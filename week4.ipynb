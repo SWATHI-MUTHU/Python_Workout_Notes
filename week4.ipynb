{
  "nbformat": 4,
  "nbformat_minor": 0,
  "metadata": {
    "colab": {
      "provenance": [],
      "authorship_tag": "ABX9TyNFyDI0MY1+G+bvy4HqSpGq",
      "include_colab_link": true
    },
    "kernelspec": {
      "name": "python3",
      "display_name": "Python 3"
    },
    "language_info": {
      "name": "python"
    }
  },
  "cells": [
    {
      "cell_type": "markdown",
      "metadata": {
        "id": "view-in-github",
        "colab_type": "text"
      },
      "source": [
        "<a href=\"https://colab.research.google.com/github/SWATHI-MUTHU/Python_Workout_Notes/blob/main/week4.ipynb\" target=\"_parent\"><img src=\"https://colab.research.google.com/assets/colab-badge.svg\" alt=\"Open In Colab\"/></a>"
      ]
    },
    {
      "cell_type": "code",
      "execution_count": null,
      "metadata": {
        "id": "XdoNl_UIGVTd"
      },
      "outputs": [],
      "source": [
        "#inheritance\n",
        "#parent class\n",
        "class animal:\n",
        "  def __init__(self,name):\n",
        "    self.name=name\n",
        "  def eat(self):\n",
        "    print(self.name+\" \"+\"is eating\")"
      ]
    },
    {
      "cell_type": "code",
      "source": [
        "per1 =animal(\"Ramu\")"
      ],
      "metadata": {
        "id": "P9EkeUtGeQG8"
      },
      "execution_count": null,
      "outputs": []
    },
    {
      "cell_type": "code",
      "source": [
        "per1.eat()"
      ],
      "metadata": {
        "colab": {
          "base_uri": "https://localhost:8080/"
        },
        "id": "fRK3JS6Yeahu",
        "outputId": "6d9f5918-30f9-41f2-fd91-4eff68a49734"
      },
      "execution_count": null,
      "outputs": [
        {
          "output_type": "stream",
          "name": "stdout",
          "text": [
            "Ramu is eating\n"
          ]
        }
      ]
    },
    {
      "cell_type": "code",
      "source": [
        "#child class\n",
        "class dog(animal):\n",
        "  def __init__(self,breed,name):\n",
        "    self.__breed=breed\n",
        "    animal.__init__(self,name)\n",
        "\n",
        "  def breed(self):\n",
        "     return self.__breed"
      ],
      "metadata": {
        "id": "-SGXm1DYfpIh"
      },
      "execution_count": null,
      "outputs": []
    },
    {
      "cell_type": "code",
      "source": [
        "d1=dog(\"Lab\",\"Muthu\")"
      ],
      "metadata": {
        "id": "Yli9uU4gkwht"
      },
      "execution_count": null,
      "outputs": []
    },
    {
      "cell_type": "code",
      "source": [
        "d1.eat()"
      ],
      "metadata": {
        "colab": {
          "base_uri": "https://localhost:8080/"
        },
        "id": "SDDGYqBNk3nG",
        "outputId": "f9a19621-7318-4eb2-aabe-ed7e6135305e"
      },
      "execution_count": null,
      "outputs": [
        {
          "output_type": "stream",
          "name": "stdout",
          "text": [
            "Muthu is eating\n"
          ]
        }
      ]
    },
    {
      "cell_type": "code",
      "source": [
        "d1.breed()"
      ],
      "metadata": {
        "colab": {
          "base_uri": "https://localhost:8080/",
          "height": 35
        },
        "id": "uec9SH6BobLt",
        "outputId": "57c298eb-84ba-4775-e07d-6d1e408723e1"
      },
      "execution_count": null,
      "outputs": [
        {
          "output_type": "execute_result",
          "data": {
            "text/plain": [
              "'Lab'"
            ],
            "application/vnd.google.colaboratory.intrinsic+json": {
              "type": "string"
            }
          },
          "metadata": {},
          "execution_count": 31
        }
      ]
    },
    {
      "cell_type": "code",
      "source": [
        "#inheritance\n",
        "#parent class\n",
        "class father:\n",
        "      def __init__(self,name,age):\n",
        "         self.name=name\n",
        "         self.age=age\n",
        "      def work(self):\n",
        "         print(\"the father working age is\"+\" \"+str(self.age))"
      ],
      "metadata": {
        "id": "B8Cljeumpbj9"
      },
      "execution_count": null,
      "outputs": []
    },
    {
      "cell_type": "code",
      "source": [
        "f=father(\"Ravi\",57)"
      ],
      "metadata": {
        "id": "6KXbaqJnWZ82"
      },
      "execution_count": null,
      "outputs": []
    },
    {
      "cell_type": "code",
      "source": [
        "f.work()"
      ],
      "metadata": {
        "colab": {
          "base_uri": "https://localhost:8080/"
        },
        "id": "dpZPGrPwXCPq",
        "outputId": "f8273563-0541-40bd-afdc-347a06fef514"
      },
      "execution_count": null,
      "outputs": [
        {
          "output_type": "stream",
          "name": "stdout",
          "text": [
            "the father working age is 57\n"
          ]
        }
      ]
    },
    {
      "cell_type": "code",
      "source": [
        "#chlid\n",
        "class child(father):\n",
        "  def __init__(self,name,age,sch_name):\n",
        "    self.__sch_name=sch_name\n",
        "    father.__init__(self,name,age)\n",
        "\n",
        "  def sch_name(self):\n",
        "    return self.__sch_name"
      ],
      "metadata": {
        "id": "cEaepyyFaHC8"
      },
      "execution_count": null,
      "outputs": []
    },
    {
      "cell_type": "code",
      "source": [
        "c = child(\"mythily\",45,\"singaram pillai schl\")"
      ],
      "metadata": {
        "id": "r2r4dwx_bZQ0"
      },
      "execution_count": null,
      "outputs": []
    },
    {
      "cell_type": "code",
      "source": [
        "c.work()"
      ],
      "metadata": {
        "colab": {
          "base_uri": "https://localhost:8080/"
        },
        "id": "C1mZWnxmb9lD",
        "outputId": "1c1037bd-7d1a-4972-fc19-34d7af443a81"
      },
      "execution_count": null,
      "outputs": [
        {
          "output_type": "stream",
          "name": "stdout",
          "text": [
            "the father working age is 45\n"
          ]
        }
      ]
    },
    {
      "cell_type": "code",
      "source": [
        "c.sch_name()"
      ],
      "metadata": {
        "colab": {
          "base_uri": "https://localhost:8080/",
          "height": 35
        },
        "id": "gxLIn-jLbsbi",
        "outputId": "84050148-0a94-4e3f-df3d-9b0b7dc9349e"
      },
      "execution_count": null,
      "outputs": [
        {
          "output_type": "execute_result",
          "data": {
            "text/plain": [
              "'singaram pillai schl'"
            ],
            "application/vnd.google.colaboratory.intrinsic+json": {
              "type": "string"
            }
          },
          "metadata": {},
          "execution_count": 79
        }
      ]
    },
    {
      "cell_type": "code",
      "source": [
        "#parent class\n",
        "class animal:\n",
        "  def __init__(self,name):\n",
        "    self.name=name\n",
        "  def habit(self):\n",
        "    print(self.name)\n"
      ],
      "metadata": {
        "id": "BBWrKi3xb__Z"
      },
      "execution_count": null,
      "outputs": []
    },
    {
      "cell_type": "code",
      "source": [
        "#child class\n",
        "class cat(animal):\n",
        "  def __init__(self,age,name):\n",
        "    self.age=age\n",
        "    animal.__init__(self,name)\n",
        "\n",
        "  def age(self):\n",
        "    return self.age"
      ],
      "metadata": {
        "id": "wFsIec8Z0GRO"
      },
      "execution_count": null,
      "outputs": []
    },
    {
      "cell_type": "code",
      "source": [
        "c=cat(23,\"Anu\")"
      ],
      "metadata": {
        "id": "kZh3a-CQ3xvf"
      },
      "execution_count": null,
      "outputs": []
    },
    {
      "cell_type": "code",
      "source": [
        "c.habit()"
      ],
      "metadata": {
        "colab": {
          "base_uri": "https://localhost:8080/"
        },
        "id": "mUygaD1X3_jn",
        "outputId": "c414f24e-6591-4c3a-d370-58b73709729a"
      },
      "execution_count": null,
      "outputs": [
        {
          "output_type": "stream",
          "name": "stdout",
          "text": [
            "Anu\n"
          ]
        }
      ]
    },
    {
      "cell_type": "code",
      "source": [
        "c.age()"
      ],
      "metadata": {
        "colab": {
          "base_uri": "https://localhost:8080/",
          "height": 141
        },
        "id": "drskZpnw6BPo",
        "outputId": "ba7a6e86-f0ad-4edb-e85c-0e1bfc64f5de"
      },
      "execution_count": null,
      "outputs": [
        {
          "output_type": "error",
          "ename": "TypeError",
          "evalue": "'int' object is not callable",
          "traceback": [
            "\u001b[0;31m---------------------------------------------------------------------------\u001b[0m",
            "\u001b[0;31mTypeError\u001b[0m                                 Traceback (most recent call last)",
            "\u001b[0;32m<ipython-input-39-d42621306699>\u001b[0m in \u001b[0;36m<cell line: 1>\u001b[0;34m()\u001b[0m\n\u001b[0;32m----> 1\u001b[0;31m \u001b[0mc\u001b[0m\u001b[0;34m.\u001b[0m\u001b[0mage\u001b[0m\u001b[0;34m(\u001b[0m\u001b[0;34m)\u001b[0m\u001b[0;34m\u001b[0m\u001b[0;34m\u001b[0m\u001b[0m\n\u001b[0m",
            "\u001b[0;31mTypeError\u001b[0m: 'int' object is not callable"
          ]
        }
      ]
    },
    {
      "cell_type": "code",
      "source": [
        "#parent class\n",
        "class animal:\n",
        "  def __init__(self,name):\n",
        "    self.name=name\n",
        "  def habit(self):\n",
        "    print(self.name)"
      ],
      "metadata": {
        "id": "CFH0Tk486Hhw"
      },
      "execution_count": null,
      "outputs": []
    },
    {
      "cell_type": "code",
      "source": [
        "#child class\n",
        "class cat(animal):\n",
        "  def __init__(self,age,name):\n",
        "    self.age=age\n",
        "    super().__init__(name)\n",
        "\n",
        "  def age(self):\n",
        "    return self.age"
      ],
      "metadata": {
        "id": "1UyLI9rg6LHB"
      },
      "execution_count": null,
      "outputs": []
    },
    {
      "cell_type": "code",
      "source": [
        "c=cat(23,\"Anu\")"
      ],
      "metadata": {
        "id": "5U4qayOD6VfX"
      },
      "execution_count": null,
      "outputs": []
    },
    {
      "cell_type": "code",
      "source": [
        "c.habit()"
      ],
      "metadata": {
        "colab": {
          "base_uri": "https://localhost:8080/"
        },
        "id": "YRCWdQBl6XhN",
        "outputId": "a042449d-58f1-4dba-ab3b-8983f419c462"
      },
      "execution_count": null,
      "outputs": [
        {
          "output_type": "stream",
          "name": "stdout",
          "text": [
            "Anu\n"
          ]
        }
      ]
    },
    {
      "cell_type": "code",
      "source": [
        "c.age()"
      ],
      "metadata": {
        "colab": {
          "base_uri": "https://localhost:8080/",
          "height": 146
        },
        "id": "8JC6n6nE6248",
        "outputId": "c6ff6c8a-afd0-40de-e983-d0a786f8ddb1"
      },
      "execution_count": null,
      "outputs": [
        {
          "output_type": "error",
          "ename": "TypeError",
          "evalue": "'int' object is not callable",
          "traceback": [
            "\u001b[0;31m---------------------------------------------------------------------------\u001b[0m",
            "\u001b[0;31mTypeError\u001b[0m                                 Traceback (most recent call last)",
            "\u001b[0;32m<ipython-input-53-d42621306699>\u001b[0m in \u001b[0;36m<cell line: 1>\u001b[0;34m()\u001b[0m\n\u001b[0;32m----> 1\u001b[0;31m \u001b[0mc\u001b[0m\u001b[0;34m.\u001b[0m\u001b[0mage\u001b[0m\u001b[0;34m(\u001b[0m\u001b[0;34m)\u001b[0m\u001b[0;34m\u001b[0m\u001b[0;34m\u001b[0m\u001b[0m\n\u001b[0m",
            "\u001b[0;31mTypeError\u001b[0m: 'int' object is not callable"
          ]
        }
      ]
    },
    {
      "cell_type": "code",
      "source": [
        "list=[2,2,4,5]\n",
        "print(sum(list))\n"
      ],
      "metadata": {
        "id": "pFcT6j1d7QYa",
        "colab": {
          "base_uri": "https://localhost:8080/"
        },
        "outputId": "c49995b0-ec13-4e91-9b86-ea68c49813fe"
      },
      "execution_count": null,
      "outputs": [
        {
          "output_type": "stream",
          "name": "stdout",
          "text": [
            "13\n"
          ]
        }
      ]
    },
    {
      "cell_type": "code",
      "source": [
        "#parent class\n",
        "class vehicle:\n",
        "  def __init__(self,name_of_vehicle,max_speed,average_of_vehicle):\n",
        "    self.name_of_vehicle=name_of_vehicle\n",
        "    self.max_speed=max_speed\n",
        "    self.average_of_vehicle=average_of_vehicle\n",
        "  def seating_capacity(self):\n",
        "    print(\"The name of the vehicle\"+\" \"+ self.name_of_vehicle)"
      ],
      "metadata": {
        "id": "tpq2FTpEB9Sx"
      },
      "execution_count": null,
      "outputs": []
    },
    {
      "cell_type": "code",
      "source": [
        "#child class\n",
        "class car(vehicle):\n",
        "  def __init__(self,name_of_vehicle,max_speed,average_of_vehicle,colour):\n",
        "    self.colour=colour\n",
        "    vehicle.__init__(self,name_of_vehicle,max_speed,average_of_vehicle)\n"
      ],
      "metadata": {
        "id": "OkxOIKFKDJmk"
      },
      "execution_count": null,
      "outputs": []
    },
    {
      "cell_type": "code",
      "source": [
        "v=car(\"AWM\",250,50,\"red\")"
      ],
      "metadata": {
        "id": "U4n2ibp6FgSL"
      },
      "execution_count": null,
      "outputs": []
    },
    {
      "cell_type": "code",
      "source": [
        "v.seating_capacity()"
      ],
      "metadata": {
        "colab": {
          "base_uri": "https://localhost:8080/"
        },
        "id": "zh4GuMc4Fxdf",
        "outputId": "f113aa1d-1ac6-4b28-c311-b0fb49ddd970"
      },
      "execution_count": null,
      "outputs": [
        {
          "output_type": "stream",
          "name": "stdout",
          "text": [
            "The name of the vehicle AWM\n"
          ]
        }
      ]
    },
    {
      "cell_type": "code",
      "source": [
        "#parent class1(Multiple inheritance)\n",
        "class person():\n",
        "  def __init__(self,name,age):\n",
        "    self.name=name\n",
        "    self.age=age\n",
        "\n",
        "  def person_info(self):\n",
        "    print(self.age)\n"
      ],
      "metadata": {
        "id": "SDXOSBgHLH5O"
      },
      "execution_count": null,
      "outputs": []
    },
    {
      "cell_type": "code",
      "source": [
        "#parent class2\n",
        "class employee():\n",
        "  def __init__(self,employeeid):\n",
        "   self.employeeid=employeeid\n",
        "\n",
        "  def emp_info(self):\n",
        "    print(self.employeeid)"
      ],
      "metadata": {
        "id": "GsbKjc-DLn8B"
      },
      "execution_count": null,
      "outputs": []
    },
    {
      "cell_type": "code",
      "source": [
        "#child class\n",
        "class company(person,employee):\n",
        "  def __init__(self,name,age,employeeid,dept):\n",
        "    self.dept=dept\n",
        "    person.__init__(self,name,age)\n",
        "    employee.__init__(self,employeeid)\n",
        "\n",
        "  def dept(self):\n",
        "    return self.dept"
      ],
      "metadata": {
        "id": "MmJICzAjMMF7"
      },
      "execution_count": null,
      "outputs": []
    },
    {
      "cell_type": "code",
      "source": [
        "c=company(\"Rathi\",23,1234,\"IT\")\n"
      ],
      "metadata": {
        "id": "4-gvB4wZNOOI"
      },
      "execution_count": null,
      "outputs": []
    },
    {
      "cell_type": "code",
      "source": [
        "c.emp_info()"
      ],
      "metadata": {
        "colab": {
          "base_uri": "https://localhost:8080/"
        },
        "id": "r8g8mfu8NcxS",
        "outputId": "5a33d33b-5e23-42ab-db0d-9ebbf90a0ec3"
      },
      "execution_count": null,
      "outputs": [
        {
          "output_type": "stream",
          "name": "stdout",
          "text": [
            "1234\n"
          ]
        }
      ]
    },
    {
      "cell_type": "code",
      "source": [
        "c.person_info()"
      ],
      "metadata": {
        "colab": {
          "base_uri": "https://localhost:8080/"
        },
        "id": "vgxMQRV6NkFy",
        "outputId": "169cd784-bb02-4cb3-d671-baf51e8aa9df"
      },
      "execution_count": null,
      "outputs": [
        {
          "output_type": "stream",
          "name": "stdout",
          "text": [
            "23\n"
          ]
        }
      ]
    },
    {
      "cell_type": "code",
      "source": [
        "class FOOD:\n",
        "  def __init__(self,name,recipe):\n",
        "    self.name=name\n",
        "    self.__recipe=recipe\n",
        "\n",
        "#getter\n",
        "  def get_recipe(self):\n",
        "    return self.__recipe\n",
        "#setter\n",
        "  def set_recipe(self,recipe):\n",
        "    self.__recipe=recipe"
      ],
      "metadata": {
        "id": "kDxArguzN_FM"
      },
      "execution_count": null,
      "outputs": []
    },
    {
      "cell_type": "code",
      "source": [
        "f=FOOD(\"Muthu\",\"Fried rice\")"
      ],
      "metadata": {
        "id": "2KIMtbO0QbFK"
      },
      "execution_count": null,
      "outputs": []
    },
    {
      "cell_type": "code",
      "source": [
        "f.get_recipe()"
      ],
      "metadata": {
        "colab": {
          "base_uri": "https://localhost:8080/",
          "height": 36
        },
        "id": "N8N7Q5E2UKjx",
        "outputId": "359d610f-81ae-4d88-df00-e5766eb16080"
      },
      "execution_count": null,
      "outputs": [
        {
          "output_type": "execute_result",
          "data": {
            "text/plain": [
              "'Fried rice'"
            ],
            "application/vnd.google.colaboratory.intrinsic+json": {
              "type": "string"
            }
          },
          "metadata": {},
          "execution_count": 88
        }
      ]
    },
    {
      "cell_type": "code",
      "source": [
        "f.set_recipe(\"briyani\")"
      ],
      "metadata": {
        "id": "c92And5aUsBL"
      },
      "execution_count": null,
      "outputs": []
    },
    {
      "cell_type": "code",
      "source": [
        "f.get_recipe()"
      ],
      "metadata": {
        "colab": {
          "base_uri": "https://localhost:8080/",
          "height": 36
        },
        "id": "WUoVhm59Uz3f",
        "outputId": "1050eb4c-0642-43a1-a11f-35497101798e"
      },
      "execution_count": null,
      "outputs": [
        {
          "output_type": "execute_result",
          "data": {
            "text/plain": [
              "'briyani'"
            ],
            "application/vnd.google.colaboratory.intrinsic+json": {
              "type": "string"
            }
          },
          "metadata": {},
          "execution_count": 93
        }
      ]
    },
    {
      "cell_type": "code",
      "source": [
        "#abstraction method\n",
        "from abc import ABC,abstractmethod"
      ],
      "metadata": {
        "id": "yqAkLpPBRYWS"
      },
      "execution_count": null,
      "outputs": []
    },
    {
      "cell_type": "code",
      "source": [
        "class ITV(ABC):\n",
        "   @abstractmethod\n",
        "   def stud_details(self):\n",
        "       pass\n"
      ],
      "metadata": {
        "id": "1xQ8FfV5WNGF"
      },
      "execution_count": null,
      "outputs": []
    },
    {
      "cell_type": "code",
      "source": [
        "class datascience(ITV):\n",
        " def stud_details(self):\n",
        "  print(\"X\")"
      ],
      "metadata": {
        "id": "DmWY2T6AW8vy"
      },
      "execution_count": null,
      "outputs": []
    },
    {
      "cell_type": "code",
      "source": [
        "d=datascience()"
      ],
      "metadata": {
        "id": "9Y9g3YZucPBv"
      },
      "execution_count": null,
      "outputs": []
    },
    {
      "cell_type": "code",
      "source": [
        "d.stud_details()"
      ],
      "metadata": {
        "colab": {
          "base_uri": "https://localhost:8080/"
        },
        "id": "wVnubF-jcYBR",
        "outputId": "d64b9cc4-2ded-4518-fe7b-48725b24486e"
      },
      "execution_count": null,
      "outputs": [
        {
          "output_type": "stream",
          "name": "stdout",
          "text": [
            "X\n"
          ]
        }
      ]
    },
    {
      "cell_type": "code",
      "source": [
        "class showroom(ABC):\n",
        "  @abstractmethod\n",
        "  def hatchback(self):\n",
        "    pass"
      ],
      "metadata": {
        "id": "oUnTbUsxeQyN"
      },
      "execution_count": null,
      "outputs": []
    },
    {
      "cell_type": "code",
      "source": [
        "class audi(showroom):\n",
        "  def hatchback(self):\n",
        "    price=20000\n",
        "    discount=0.2\n",
        "    print(f\"the price of the audi is {price-(price*discount)}\")"
      ],
      "metadata": {
        "id": "0AELOfFFepZz"
      },
      "execution_count": null,
      "outputs": []
    },
    {
      "cell_type": "code",
      "source": [
        "s1=audi()"
      ],
      "metadata": {
        "id": "M8N4f6XnfC4L"
      },
      "execution_count": null,
      "outputs": []
    },
    {
      "cell_type": "code",
      "source": [
        "s1.hatchback()"
      ],
      "metadata": {
        "colab": {
          "base_uri": "https://localhost:8080/",
          "height": 146
        },
        "id": "NDgfRdFPfTW4",
        "outputId": "2c9bce9e-6de4-4a67-d767-7931448f6ccf"
      },
      "execution_count": null,
      "outputs": [
        {
          "output_type": "error",
          "ename": "NameError",
          "evalue": "name 's1' is not defined",
          "traceback": [
            "\u001b[0;31m---------------------------------------------------------------------------\u001b[0m",
            "\u001b[0;31mNameError\u001b[0m                                 Traceback (most recent call last)",
            "\u001b[0;32m<ipython-input-1-a0d0917a450f>\u001b[0m in \u001b[0;36m<cell line: 1>\u001b[0;34m()\u001b[0m\n\u001b[0;32m----> 1\u001b[0;31m \u001b[0ms1\u001b[0m\u001b[0;34m.\u001b[0m\u001b[0mhatchback\u001b[0m\u001b[0;34m(\u001b[0m\u001b[0;34m)\u001b[0m\u001b[0;34m\u001b[0m\u001b[0;34m\u001b[0m\u001b[0m\n\u001b[0m",
            "\u001b[0;31mNameError\u001b[0m: name 's1' is not defined"
          ]
        }
      ]
    },
    {
      "cell_type": "code",
      "source": [
        "class datascience:\n",
        "  def stud_details(self):\n",
        "    print(\"The student belong to DS\")\n",
        "\n",
        "class webdep:\n",
        "  def stud_details(self):\n",
        "    print(\"The student belong to webdep\")"
      ],
      "metadata": {
        "id": "EMASPJVO_zxV"
      },
      "execution_count": 2,
      "outputs": []
    },
    {
      "cell_type": "code",
      "source": [
        "d=datascience()"
      ],
      "metadata": {
        "id": "6CgJCwZRAaaR"
      },
      "execution_count": 3,
      "outputs": []
    },
    {
      "cell_type": "code",
      "source": [
        "d.stud_details()"
      ],
      "metadata": {
        "colab": {
          "base_uri": "https://localhost:8080/"
        },
        "id": "EpK0kwY7AgHj",
        "outputId": "2911372e-b3c2-43c1-cbc0-2f8838cb313d"
      },
      "execution_count": 4,
      "outputs": [
        {
          "output_type": "stream",
          "name": "stdout",
          "text": [
            "The student belong to DS\n"
          ]
        }
      ]
    },
    {
      "cell_type": "code",
      "source": [
        "d=webdep()"
      ],
      "metadata": {
        "id": "rV63I15Vlqxu"
      },
      "execution_count": 6,
      "outputs": []
    },
    {
      "cell_type": "code",
      "source": [
        "d.stud_details()"
      ],
      "metadata": {
        "colab": {
          "base_uri": "https://localhost:8080/"
        },
        "id": "osJW3In0l9I9",
        "outputId": "cc62cec6-2f18-4981-8340-816f962aaf7f"
      },
      "execution_count": 7,
      "outputs": [
        {
          "output_type": "stream",
          "name": "stdout",
          "text": [
            "The student belong to webdep\n"
          ]
        }
      ]
    },
    {
      "cell_type": "code",
      "source": [
        "#file handling\n",
        "file=open(\"/content/demo.txt\",\"r\")"
      ],
      "metadata": {
        "id": "Rbk1ewimDx8J"
      },
      "execution_count": 19,
      "outputs": []
    },
    {
      "cell_type": "code",
      "source": [
        "#1 method\n",
        "print(file.read())"
      ],
      "metadata": {
        "colab": {
          "base_uri": "https://localhost:8080/"
        },
        "id": "7fTvJ7z4EH7u",
        "outputId": "a9b874a1-ea11-4a84-e5d4-63988d57835a"
      },
      "execution_count": 20,
      "outputs": [
        {
          "output_type": "stream",
          "name": "stdout",
          "text": [
            "Hello world\n"
          ]
        }
      ]
    },
    {
      "cell_type": "code",
      "source": [
        "#2method\n",
        "with open(\"/content/demo.txt\",\"r\") as file:\n",
        "  data=file.read()\n",
        "  print(data)"
      ],
      "metadata": {
        "colab": {
          "base_uri": "https://localhost:8080/"
        },
        "id": "tCerL9tmFewG",
        "outputId": "91801882-c286-4c54-a457-93b1fafc111e"
      },
      "execution_count": 21,
      "outputs": [
        {
          "output_type": "stream",
          "name": "stdout",
          "text": [
            "Hello world\n"
          ]
        }
      ]
    },
    {
      "cell_type": "code",
      "source": [
        "with open(\"/content/demo.txt\",\"r\") as file:\n",
        "  data=file.read(3)\n",
        "  print(data)"
      ],
      "metadata": {
        "colab": {
          "base_uri": "https://localhost:8080/"
        },
        "id": "px8uOU97GBqa",
        "outputId": "92c00fd1-b82b-4bf9-915f-24b69b81f62b"
      },
      "execution_count": 22,
      "outputs": [
        {
          "output_type": "stream",
          "name": "stdout",
          "text": [
            "Hel\n"
          ]
        }
      ]
    },
    {
      "cell_type": "code",
      "source": [
        "#writting\n",
        "with open(\"/content/demo.txt\",\"w\") as f:\n",
        "  f.write(\"hello\")\n",
        "  f.write(\"Hi\")\n",
        "  f.close()\n"
      ],
      "metadata": {
        "id": "5yKOn4yHHxZ-"
      },
      "execution_count": 26,
      "outputs": []
    },
    {
      "cell_type": "code",
      "source": [
        "#append\n",
        "with open(\"/content/demo.txt\",\"a\") as f:\n",
        "  f.write(\"hello\")\n",
        "  f.write(\"Hi\")\n",
        "  f.close()\n"
      ],
      "metadata": {
        "id": "3HYFHhTgJXkU"
      },
      "execution_count": 27,
      "outputs": []
    },
    {
      "cell_type": "code",
      "source": [
        "#Delete a file\n",
        "import os"
      ],
      "metadata": {
        "id": "wBiuo-epK-47"
      },
      "execution_count": 29,
      "outputs": []
    },
    {
      "cell_type": "code",
      "source": [
        "os.remove(\"/content/demo.txt\")"
      ],
      "metadata": {
        "id": "bv0MgZBiLIJ8"
      },
      "execution_count": null,
      "outputs": []
    },
    {
      "cell_type": "code",
      "source": [
        "with open(\"/content/del.txt\",\"w\") as f:\n",
        "  f.write(\"hello Guys\")\n",
        "  f.close()"
      ],
      "metadata": {
        "id": "gB6ab1MILU4M"
      },
      "execution_count": 31,
      "outputs": []
    },
    {
      "cell_type": "code",
      "source": [
        "with open(\"/content/del.txt\",\"r\") as f:\n",
        "  data=f.read()\n",
        "  print(data)"
      ],
      "metadata": {
        "colab": {
          "base_uri": "https://localhost:8080/"
        },
        "id": "F-hLNLmgOYxW",
        "outputId": "4ddd4c2c-c2d3-405c-f2be-4aa363c97403"
      },
      "execution_count": 32,
      "outputs": [
        {
          "output_type": "stream",
          "name": "stdout",
          "text": [
            "hello Guys\n"
          ]
        }
      ]
    },
    {
      "cell_type": "code",
      "source": [
        "with open(\"/content/del.txt\",\"a\") as f:\n",
        "  f.write(\" Hi\")"
      ],
      "metadata": {
        "id": "K-HEjQf3Oqa8"
      },
      "execution_count": 33,
      "outputs": []
    },
    {
      "cell_type": "code",
      "source": [
        "os.remove(\"/content/del.txt\")"
      ],
      "metadata": {
        "id": "2QO77oPcPF3S"
      },
      "execution_count": 30,
      "outputs": []
    },
    {
      "cell_type": "code",
      "source": [
        "#custom Exception Handling:\n",
        "age=int(input(\"Enter your age\"))\n"
      ],
      "metadata": {
        "colab": {
          "base_uri": "https://localhost:8080/"
        },
        "id": "lzO9n_nPU_Tp",
        "outputId": "dcec3385-3096-46fd-db8b-d59671a93f4e"
      },
      "execution_count": null,
      "outputs": [
        {
          "name": "stdout",
          "output_type": "stream",
          "text": [
            "Enter your age-123\n"
          ]
        }
      ]
    },
    {
      "cell_type": "code",
      "source": [
        "class custom_exception(Exception):\n",
        "  def __init__(self,msg):\n",
        "    self.msg=msg"
      ],
      "metadata": {
        "id": "nMUW3v6kVKDG"
      },
      "execution_count": 39,
      "outputs": []
    },
    {
      "cell_type": "code",
      "source": [
        "def validate_age(age):\n",
        "  if age<0:\n",
        "    raise custom_exception(\"Entered age is negative\")\n",
        "  elif age>200:\n",
        "    raise custom_exception(\"Entered age is very very high\")\n",
        "  else:\n",
        "    print(\"Age is valid\")\n"
      ],
      "metadata": {
        "id": "twsYgGUXCHq3"
      },
      "execution_count": 47,
      "outputs": []
    },
    {
      "cell_type": "code",
      "source": [
        "try:\n",
        "  age=int(input(\"enter you age\"))\n",
        "  validate_age(age)\n",
        "\n",
        "except custom_exception as e:\n",
        "    print(e)\n"
      ],
      "metadata": {
        "colab": {
          "base_uri": "https://localhost:8080/"
        },
        "id": "Abs0TvIVCXeg",
        "outputId": "fbb9dd9c-2db0-4d9f-c035-7b5e20073fff"
      },
      "execution_count": 50,
      "outputs": [
        {
          "output_type": "stream",
          "name": "stdout",
          "text": [
            "enter you age45\n",
            "Age is valid\n"
          ]
        }
      ]
    }
  ]
}